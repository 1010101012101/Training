{
 "cells": [
  {
   "cell_type": "code",
   "execution_count": 18,
   "metadata": {},
   "outputs": [
    {
     "name": "stdout",
     "output_type": "stream",
     "text": [
      "HTTP/1.1 200 OK\r\n",
      "Date: Wed, 01 Nov 2017 04:54:05 GMT\r\n",
      "Server: Apache/2.4.7 (Ubuntu)\r\n",
      "Last-Modified: Sat, 13 May 2017 11:22:22 GMT\r\n",
      "ETag: \"a7-54f6609245537\"\r\n",
      "Accept-Ranges: bytes\r\n",
      "Content-Length: 167\r\n",
      "Cache-Control: max-age=0, no-cache, no-store, must-revalidate\r\n",
      "Pragma: no-cache\r\n",
      "Expires: Wed, 11 Jan 1984 05:00:00 GMT\r\n",
      "Connection: close\r\n",
      "Content-Type: text/plain\r\n",
      "\r\n",
      "But soft what light through yonder window breaks\n",
      "It is the east and Juliet is the sun\n",
      "Arise fair sun and kill the envious moon\n",
      "Who is already si\n",
      "ck and pale with grief\n",
      "\n"
     ]
    }
   ],
   "source": [
    "#The World’s Simplest Web Browser\n",
    "import socket\n",
    "mysock = socket.socket(socket.AF_INET, socket.SOCK_STREAM)\n",
    "mysock.connect(('data.pr4e.org', 80))\n",
    "cmd = 'GET http://data.pr4e.org/romeo.txt HTTP/1.0\\r\\n\\r\\n'.encode()\n",
    "mysock.send(cmd)\n",
    "\n",
    "while True:\n",
    "    data = mysock.recv(512)\n",
    "    if (len(data) < 1):\n",
    "        break\n",
    "    print(data.decode())\n",
    "mysock.close()\n",
    "\n",
    "m = 'GET / HTTP/1.0\\r\\nHost: www.cnn.com\\r\\n\\r\\n'"
   ]
  },
  {
   "cell_type": "code",
   "execution_count": 23,
   "metadata": {},
   "outputs": [
    {
     "name": "stdout",
     "output_type": "stream",
     "text": [
      "5120 5120\n",
      "5120 10240\n",
      "5120 15360\n",
      "5120 20480\n",
      "5120 25600\n",
      "5120 30720\n",
      "5120 35840\n",
      "5120 40960\n",
      "5120 46080\n",
      "5120 51200\n",
      "5120 56320\n",
      "5120 61440\n",
      "5120 66560\n",
      "3893 70453\n",
      "Header length 392\n",
      "HTTP/1.1 200 OK\n",
      "Date: Wed, 01 Nov 2017 05:02:23 GMT\n",
      "Server: Apache/2.4.7 (Ubuntu)\n",
      "Last-Modified: Mon, 15 May 2017 12:17:21 GMT\n",
      "ETag: \"111a9-54f8f097cc937\"\n",
      "Accept-Ranges: bytes\n",
      "Content-Length: 70057\n",
      "Vary: Accept-Encoding\n",
      "Cache-Control: max-age=0, no-cache, no-store, must-revalidate\n",
      "Pragma: no-cache\n",
      "Expires: Wed, 11 Jan 1984 05:00:00 GMT\n",
      "Connection: close\n",
      "Content-Type: image/jpeg\n"
     ]
    }
   ],
   "source": [
    "#Retrieving an image over HTTP\n",
    "import socket\n",
    "import time\n",
    "\n",
    "HOST = 'data.pr4e.org'\n",
    "PORT = 80\n",
    "mysock = socket.socket(socket.AF_INET, socket.SOCK_STREAM)\n",
    "mysock.connect((HOST, PORT))\n",
    "mysock.sendall(b'GET http://data.pr4e.org/cover.jpg HTTP/1.0\\r\\n\\r\\n')\n",
    "count = 0\n",
    "picture = b\"\"\n",
    "\n",
    "while True:\n",
    "    data = mysock.recv(5120)\n",
    "    if (len(data) < 1): break\n",
    "    time.sleep(0.25)\n",
    "    count = count + len(data)\n",
    "    print(len(data), count)\n",
    "    picture = picture + data\n",
    "mysock.close()\n",
    "    \n",
    "# Look for the end of the header (2 CRLF)\n",
    "pos = picture.find(b\"\\r\\n\\r\\n\")\n",
    "print('Header length', pos)\n",
    "print(picture[:pos].decode())\n",
    "\n",
    "# Skip past the header and save the picture data\n",
    "picture = picture[pos+4:]\n",
    "fhand = open(\"stuff.jpg\", \"wb\")\n",
    "fhand.write(picture)\n",
    "fhand.close()\n",
    "\n",
    "\n",
    "\n"
   ]
  },
  {
   "cell_type": "code",
   "execution_count": 24,
   "metadata": {},
   "outputs": [
    {
     "name": "stdout",
     "output_type": "stream",
     "text": [
      "But soft what light through yonder window breaks\n",
      "It is the east and Juliet is the sun\n",
      "Arise fair sun and kill the envious moon\n",
      "Who is already sick and pale with grief\n"
     ]
    }
   ],
   "source": [
    "#Retrieving web pages with urllib\n",
    "import urllib.request, urllib.parse, urllib.error\n",
    "fhand = urllib.request.urlopen('http://data.pr4e.org/romeo.txt')\n",
    "for line in fhand:\n",
    "    print(line.decode().strip())"
   ]
  },
  {
   "cell_type": "code",
   "execution_count": 25,
   "metadata": {},
   "outputs": [
    {
     "name": "stdout",
     "output_type": "stream",
     "text": [
      "{'But': 1, 'soft': 1, 'what': 1, 'light': 1, 'through': 1, 'yonder': 1, 'window': 1, 'breaks': 1, 'It': 1, 'is': 3, 'the': 3, 'east': 1, 'and': 3, 'Juliet': 1, 'sun': 2, 'Arise': 1, 'fair': 1, 'kill': 1, 'envious': 1, 'moon': 1, 'Who': 1, 'already': 1, 'sick': 1, 'pale': 1, 'with': 1, 'grief': 1}\n"
     ]
    }
   ],
   "source": [
    "import urllib.request, urllib.parse, urllib.error\n",
    "\n",
    "counts = dict()\n",
    "fhand = urllib.request.urlopen('http://data.pr4e.org/romeo.txt')\n",
    "for line in fhand:\n",
    "    words = line.decode().split()\n",
    "    for word in words:\n",
    "        counts[word] = counts.get(word, 0) + 1\n",
    "print(counts)"
   ]
  },
  {
   "cell_type": "code",
   "execution_count": 29,
   "metadata": {},
   "outputs": [
    {
     "name": "stdout",
     "output_type": "stream",
     "text": [
      "Enter - http://google.com\n",
      "http://www.google.com/imghp?hl=en&tab=wi\n",
      "http://maps.google.com/maps?hl=en&tab=wl\n",
      "http://www.youtube.com/?gl=US&tab=w1\n",
      "http://news.google.com/nwshp?hl=en&tab=wn\n",
      "http://www.google.com/history/optout?hl=en\n"
     ]
    }
   ],
   "source": [
    "#Parsing HTML using regular expressions\n",
    "# Search for lines that start with From and have an at sign\n",
    "import urllib.request, urllib.parse, urllib.error\n",
    "import re\n",
    "\n",
    "url = input('Enter - ')\n",
    "html = urllib.request.urlopen(url).read()\n",
    "\n",
    "links = re.findall(b'href=\"(http://.*?)\"', html)\n",
    "for link in links:\n",
    "    print(link.decode())\n"
   ]
  },
  {
   "cell_type": "code",
   "execution_count": 4,
   "metadata": {},
   "outputs": [
    {
     "name": "stdout",
     "output_type": "stream",
     "text": [
      "Enter - https://www.google.com\n",
      "https://www.google.com/imghp?hl=en&tab=wi\n",
      "https://maps.google.com/maps?hl=en&tab=wl\n",
      "https://play.google.com/?hl=en&tab=w8\n",
      "https://www.youtube.com/?gl=US&tab=w1\n",
      "https://news.google.com/nwshp?hl=en&tab=wn\n",
      "https://mail.google.com/mail/?tab=wm\n",
      "https://drive.google.com/?tab=wo\n",
      "https://www.google.com/intl/en/options/\n",
      "http://www.google.com/history/optout?hl=en\n",
      "/preferences?hl=en\n",
      "https://accounts.google.com/ServiceLogin?hl=en&passive=true&continue=https://www.google.com/\n",
      "/search?site=&ie=UTF-8&q=Day+of+the+Dead&oi=ddle&ct=day-of-the-dead-2017-6241959625621504-l&hl=en&sa=X&ved=0ahUKEwjxur3Jw6DXAhUJxGMKHZXHDucQPQgD\n",
      "/advanced_search?hl=en&authuser=0\n",
      "/language_tools?hl=en&authuser=0\n",
      "https://www.google.com/url?q=https://www.google.com/culturalinstitute/beta/project/dia-de-muertos%3Futm_campaign%3Ddia-de-muertos%26utm_source%3Dgoogle%26utm_medium%3Dhppromo%26utm_content%3Dus-en&source=hpp&id=19004009&ct=3&usg=AFQjCNFeCgpYalGaO6bymOcx0rhDWB3-_g&sa=X&ved=0ahUKEwjxur3Jw6DXAhUJxGMKHZXHDucQ8IcBCAU\n",
      "/intl/en/ads/\n",
      "/services/\n",
      "https://plus.google.com/116899029375914044550\n",
      "/intl/en/about.html\n",
      "/intl/en/policies/privacy/\n",
      "/intl/en/policies/terms/\n"
     ]
    }
   ],
   "source": [
    "#Parsing HTML using BeautifulSoup\n",
    "import urllib.request, urllib.parse, urllib.error\n",
    "from bs4 import BeautifulSoup\n",
    "\n",
    "url = input('Enter - ')\n",
    "html = urllib.request.urlopen(url).read()\n",
    "soup = BeautifulSoup(html, 'html.parser')\n",
    "\n",
    "#Retrieve all of the anchor tags\n",
    "tags = soup('a')\n",
    "for tag in tags:\n",
    "    print(tag.get('href', None))\n"
   ]
  },
  {
   "cell_type": "code",
   "execution_count": 6,
   "metadata": {},
   "outputs": [
    {
     "name": "stdout",
     "output_type": "stream",
     "text": [
      "Enter - https://www.google.com\n",
      "TAG: <a class=\"gb1\" href=\"https://www.google.com/imghp?hl=en&amp;tab=wi\">Images</a>\n",
      "URL: https://www.google.com/imghp?hl=en&tab=wi\n",
      "Contents: Images\n",
      "Attrs: {'class': ['gb1'], 'href': 'https://www.google.com/imghp?hl=en&tab=wi'}\n",
      "TAG: <a class=\"gb1\" href=\"https://maps.google.com/maps?hl=en&amp;tab=wl\">Maps</a>\n",
      "URL: https://maps.google.com/maps?hl=en&tab=wl\n",
      "Contents: Maps\n",
      "Attrs: {'class': ['gb1'], 'href': 'https://maps.google.com/maps?hl=en&tab=wl'}\n",
      "TAG: <a class=\"gb1\" href=\"https://play.google.com/?hl=en&amp;tab=w8\">Play</a>\n",
      "URL: https://play.google.com/?hl=en&tab=w8\n",
      "Contents: Play\n",
      "Attrs: {'class': ['gb1'], 'href': 'https://play.google.com/?hl=en&tab=w8'}\n",
      "TAG: <a class=\"gb1\" href=\"https://www.youtube.com/?gl=US&amp;tab=w1\">YouTube</a>\n",
      "URL: https://www.youtube.com/?gl=US&tab=w1\n",
      "Contents: YouTube\n",
      "Attrs: {'class': ['gb1'], 'href': 'https://www.youtube.com/?gl=US&tab=w1'}\n",
      "TAG: <a class=\"gb1\" href=\"https://news.google.com/nwshp?hl=en&amp;tab=wn\">News</a>\n",
      "URL: https://news.google.com/nwshp?hl=en&tab=wn\n",
      "Contents: News\n",
      "Attrs: {'class': ['gb1'], 'href': 'https://news.google.com/nwshp?hl=en&tab=wn'}\n",
      "TAG: <a class=\"gb1\" href=\"https://mail.google.com/mail/?tab=wm\">Gmail</a>\n",
      "URL: https://mail.google.com/mail/?tab=wm\n",
      "Contents: Gmail\n",
      "Attrs: {'class': ['gb1'], 'href': 'https://mail.google.com/mail/?tab=wm'}\n",
      "TAG: <a class=\"gb1\" href=\"https://drive.google.com/?tab=wo\">Drive</a>\n",
      "URL: https://drive.google.com/?tab=wo\n",
      "Contents: Drive\n",
      "Attrs: {'class': ['gb1'], 'href': 'https://drive.google.com/?tab=wo'}\n",
      "TAG: <a class=\"gb1\" href=\"https://www.google.com/intl/en/options/\" style=\"text-decoration:none\"><u>More</u> »</a>\n",
      "URL: https://www.google.com/intl/en/options/\n",
      "Contents: <u>More</u>\n",
      "Attrs: {'class': ['gb1'], 'style': 'text-decoration:none', 'href': 'https://www.google.com/intl/en/options/'}\n",
      "TAG: <a class=\"gb4\" href=\"http://www.google.com/history/optout?hl=en\">Web History</a>\n",
      "URL: http://www.google.com/history/optout?hl=en\n",
      "Contents: Web History\n",
      "Attrs: {'href': 'http://www.google.com/history/optout?hl=en', 'class': ['gb4']}\n",
      "TAG: <a class=\"gb4\" href=\"/preferences?hl=en\">Settings</a>\n",
      "URL: /preferences?hl=en\n",
      "Contents: Settings\n",
      "Attrs: {'href': '/preferences?hl=en', 'class': ['gb4']}\n",
      "TAG: <a class=\"gb4\" href=\"https://accounts.google.com/ServiceLogin?hl=en&amp;passive=true&amp;continue=https://www.google.com/\" id=\"gb_70\" target=\"_top\">Sign in</a>\n",
      "URL: https://accounts.google.com/ServiceLogin?hl=en&passive=true&continue=https://www.google.com/\n",
      "Contents: Sign in\n",
      "Attrs: {'target': '_top', 'id': 'gb_70', 'href': 'https://accounts.google.com/ServiceLogin?hl=en&passive=true&continue=https://www.google.com/', 'class': ['gb4']}\n",
      "TAG: <a href=\"/search?site=&amp;ie=UTF-8&amp;q=Day+of+the+Dead&amp;oi=ddle&amp;ct=day-of-the-dead-2017-6241959625621504-l&amp;hl=en&amp;sa=X&amp;ved=0ahUKEwiX2IiaxqDXAhUC1WMKHSpSC3cQPQgD\"><img alt=\"Day of the Dead 2017\" border=\"0\" height=\"200\" id=\"hplogo\" onload=\"window.lol&amp;&amp;lol()\" src=\"/logos/doodles/2017/day-of-the-dead-2017-6241959625621504-l.png\" title=\"Day of the Dead 2017\" width=\"465\"/><br/></a>\n",
      "URL: /search?site=&ie=UTF-8&q=Day+of+the+Dead&oi=ddle&ct=day-of-the-dead-2017-6241959625621504-l&hl=en&sa=X&ved=0ahUKEwiX2IiaxqDXAhUC1WMKHSpSC3cQPQgD\n",
      "Contents: <img alt=\"Day of the Dead 2017\" border=\"0\" height=\"200\" id=\"hplogo\" onload=\"window.lol&amp;&amp;lol()\" src=\"/logos/doodles/2017/day-of-the-dead-2017-6241959625621504-l.png\" title=\"Day of the Dead 2017\" width=\"465\"/>\n",
      "Attrs: {'href': '/search?site=&ie=UTF-8&q=Day+of+the+Dead&oi=ddle&ct=day-of-the-dead-2017-6241959625621504-l&hl=en&sa=X&ved=0ahUKEwiX2IiaxqDXAhUC1WMKHSpSC3cQPQgD'}\n",
      "TAG: <a href=\"/advanced_search?hl=en&amp;authuser=0\">Advanced search</a>\n",
      "URL: /advanced_search?hl=en&authuser=0\n",
      "Contents: Advanced search\n",
      "Attrs: {'href': '/advanced_search?hl=en&authuser=0'}\n",
      "TAG: <a href=\"/language_tools?hl=en&amp;authuser=0\">Language tools</a>\n",
      "URL: /language_tools?hl=en&authuser=0\n",
      "Contents: Language tools\n",
      "Attrs: {'href': '/language_tools?hl=en&authuser=0'}\n",
      "TAG: <a class=\"_XIi\" href=\"https://www.google.com/url?q=https://www.google.com/culturalinstitute/beta/project/dia-de-muertos%3Futm_campaign%3Ddia-de-muertos%26utm_source%3Dgoogle%26utm_medium%3Dhppromo%26utm_content%3Dus-en&amp;source=hpp&amp;id=19004009&amp;ct=3&amp;usg=AFQjCNFeCgpYalGaO6bymOcx0rhDWB3-_g&amp;sa=X&amp;ved=0ahUKEwiX2IiaxqDXAhUC1WMKHSpSC3cQ8IcBCAU\" rel=\"nofollow\">Discover the Day of the Dead with Google</a>\n",
      "URL: https://www.google.com/url?q=https://www.google.com/culturalinstitute/beta/project/dia-de-muertos%3Futm_campaign%3Ddia-de-muertos%26utm_source%3Dgoogle%26utm_medium%3Dhppromo%26utm_content%3Dus-en&source=hpp&id=19004009&ct=3&usg=AFQjCNFeCgpYalGaO6bymOcx0rhDWB3-_g&sa=X&ved=0ahUKEwiX2IiaxqDXAhUC1WMKHSpSC3cQ8IcBCAU\n",
      "Contents: Discover the Day of the Dead with Google\n",
      "Attrs: {'class': ['_XIi'], 'href': 'https://www.google.com/url?q=https://www.google.com/culturalinstitute/beta/project/dia-de-muertos%3Futm_campaign%3Ddia-de-muertos%26utm_source%3Dgoogle%26utm_medium%3Dhppromo%26utm_content%3Dus-en&source=hpp&id=19004009&ct=3&usg=AFQjCNFeCgpYalGaO6bymOcx0rhDWB3-_g&sa=X&ved=0ahUKEwiX2IiaxqDXAhUC1WMKHSpSC3cQ8IcBCAU', 'rel': ['nofollow']}\n",
      "TAG: <a href=\"/intl/en/ads/\">Advertising Programs</a>\n",
      "URL: /intl/en/ads/\n",
      "Contents: Advertising Programs\n",
      "Attrs: {'href': '/intl/en/ads/'}\n",
      "TAG: <a href=\"/services/\">Business Solutions</a>\n",
      "URL: /services/\n",
      "Contents: Business Solutions\n",
      "Attrs: {'href': '/services/'}\n",
      "TAG: <a href=\"https://plus.google.com/116899029375914044550\" rel=\"publisher\">+Google</a>\n",
      "URL: https://plus.google.com/116899029375914044550\n",
      "Contents: +Google\n",
      "Attrs: {'href': 'https://plus.google.com/116899029375914044550', 'rel': ['publisher']}\n",
      "TAG: <a href=\"/intl/en/about.html\">About Google</a>\n",
      "URL: /intl/en/about.html\n",
      "Contents: About Google\n",
      "Attrs: {'href': '/intl/en/about.html'}\n",
      "TAG: <a href=\"/intl/en/policies/privacy/\">Privacy</a>\n",
      "URL: /intl/en/policies/privacy/\n",
      "Contents: Privacy\n",
      "Attrs: {'href': '/intl/en/policies/privacy/'}\n",
      "TAG: <a href=\"/intl/en/policies/terms/\">Terms</a>\n",
      "URL: /intl/en/policies/terms/\n",
      "Contents: Terms\n",
      "Attrs: {'href': '/intl/en/policies/terms/'}\n"
     ]
    }
   ],
   "source": [
    "#You can use BeautifulSoup to pull out various parts of each tag as follows:\n",
    "from urllib.request import urlopen\n",
    "from bs4 import BeautifulSoup\n",
    "\n",
    "url = input('Enter - ')\n",
    "html = urlopen(url).read()\n",
    "\n",
    "# html.parser is the HTML parser included in the standard Python 3 library.\n",
    "# information on other HTML parsers is here:\n",
    "# http://www.crummy.com/software/BeautifulSoup/bs4/doc/#installing-a-parser\n",
    "soup = BeautifulSoup(html, \"html.parser\")\n",
    "\n",
    "# Retrieve all of the anchor tags\n",
    "tags = soup('a')\n",
    "for tag in tags:\n",
    "# Look at the parts of a tag\n",
    "    print('TAG:', tag)\n",
    "    print('URL:', tag.get('href', None))\n",
    "    print('Contents:', tag.contents[0])\n",
    "    print('Attrs:', tag.attrs)\n",
    "\n"
   ]
  },
  {
   "cell_type": "code",
   "execution_count": 7,
   "metadata": {
    "collapsed": true
   },
   "outputs": [],
   "source": [
    "#Reading binary files using urllib\n",
    "import urllib.request, urllib.parse, urllib.error\n",
    "img = urllib.request.urlopen('http://data.pr4e.org/cover.jpg').read()\n",
    "fhand = open('cover.jpg', 'wb')\n",
    "fhand.write(img)\n",
    "fhand.close()\n"
   ]
  },
  {
   "cell_type": "code",
   "execution_count": 8,
   "metadata": {},
   "outputs": [
    {
     "name": "stdout",
     "output_type": "stream",
     "text": [
      "70057 characters copied.\n"
     ]
    }
   ],
   "source": [
    "#Reading binary files using urllib\n",
    "import urllib.request, urllib.parse, urllib.error\n",
    "img = urllib.request.urlopen('http://data.pr4e.org/cover.jpg')\n",
    "fhand = open('cover.jpg', 'wb')\n",
    "size = 0\n",
    "while True:\n",
    "    info = img.read(100000)\n",
    "    if len(info) < 1: break\n",
    "    size = size + len(info)\n",
    "    fhand.write(info)\n",
    "print(size, 'characters copied.')\n",
    "fhand.close()\n"
   ]
  },
  {
   "cell_type": "code",
   "execution_count": null,
   "metadata": {
    "collapsed": true
   },
   "outputs": [],
   "source": []
  }
 ],
 "metadata": {
  "kernelspec": {
   "display_name": "Python 3",
   "language": "python",
   "name": "python3"
  },
  "language_info": {
   "codemirror_mode": {
    "name": "ipython",
    "version": 3
   },
   "file_extension": ".py",
   "mimetype": "text/x-python",
   "name": "python",
   "nbconvert_exporter": "python",
   "pygments_lexer": "ipython3",
   "version": "3.6.1"
  }
 },
 "nbformat": 4,
 "nbformat_minor": 2
}
