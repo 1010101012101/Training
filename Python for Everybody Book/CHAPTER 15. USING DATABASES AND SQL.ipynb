{
 "cells": [
  {
   "cell_type": "code",
   "execution_count": 4,
   "metadata": {},
   "outputs": [],
   "source": [
    "import sqlite3\n",
    "conn = sqlite3.connect('music.sqlite')\n",
    "cur = conn.cursor()\n",
    "\n",
    "cur.execute('DROP TABLE IF EXISTS Tracks')\n",
    "cur.execute('CREATE TABLE Tracks(title TEXT, plays INTEGER)')\n",
    "\n",
    "conn.close()"
   ]
  },
  {
   "cell_type": "code",
   "execution_count": 7,
   "metadata": {},
   "outputs": [],
   "source": [
    "import sqlite3\n",
    "\n",
    "conn = sqlite3.connect('music.sqlite')\n",
    "cur = conn.cursor()\n",
    "\n",
    "cur.execute('INSERT INTO Tracks (title, plays) VALUES (?,?)', ('Thunderstruck',20))\n",
    "cur.execute('INSERT INTO Tracks (title, plays) VALUES (?,?)', ('My Way', 15))\n",
    "\n",
    "conn.commit()\n"
   ]
  },
  {
   "cell_type": "code",
   "execution_count": 13,
   "metadata": {},
   "outputs": [
    {
     "name": "stdout",
     "output_type": "stream",
     "text": [
      "Tracks:\n",
      "('Thunderstruck', 20)\n",
      "('My Way', 15)\n"
     ]
    }
   ],
   "source": [
    "print('Tracks:')\n",
    "cur.execute('SELECT title, plays FROM Tracks')\n",
    "for row in cur:\n",
    "    print(row)"
   ]
  },
  {
   "cell_type": "code",
   "execution_count": 14,
   "metadata": {
    "collapsed": true
   },
   "outputs": [],
   "source": [
    "cur.execute('DELETE FROM Tracks WHERE plays < 100')\n",
    "cur.close()"
   ]
  },
  {
   "cell_type": "code",
   "execution_count": 24,
   "metadata": {},
   "outputs": [
    {
     "data": {
      "text/plain": [
       "<sqlite3.Cursor at 0x549a730>"
      ]
     },
     "execution_count": 24,
     "metadata": {},
     "output_type": "execute_result"
    }
   ],
   "source": [
    "import sqlite3\n",
    "\n",
    "conn = sqlite3.connect('game.sqlite')\n",
    "cur = conn.cursor()\n",
    "\n",
    "cur.execute('DROP TABLE IF EXISTS Tracks')\n",
    "\n",
    "cur.execute('CREATE TABLE Tracks (title TEXT, plays INTEGER)')\n",
    "cur.execute('INSERT INTO Tracks (title, plays) VALUES (?,?)', ('Roger', 15))"
   ]
  },
  {
   "cell_type": "code",
   "execution_count": 29,
   "metadata": {},
   "outputs": [
    {
     "ename": "SyntaxError",
     "evalue": "invalid syntax (<ipython-input-29-2f5c4eff74b6>, line 1)",
     "output_type": "error",
     "traceback": [
      "\u001b[1;36m  File \u001b[1;32m\"<ipython-input-29-2f5c4eff74b6>\"\u001b[1;36m, line \u001b[1;32m1\u001b[0m\n\u001b[1;33m    conda info\u001b[0m\n\u001b[1;37m             ^\u001b[0m\n\u001b[1;31mSyntaxError\u001b[0m\u001b[1;31m:\u001b[0m invalid syntax\n"
     ]
    }
   ],
   "source": [
    "conda info"
   ]
  },
  {
   "cell_type": "code",
   "execution_count": 26,
   "metadata": {},
   "outputs": [
    {
     "ename": "ModuleNotFoundError",
     "evalue": "No module named 'twurl'",
     "output_type": "error",
     "traceback": [
      "\u001b[1;31m---------------------------------------------------------------------------\u001b[0m",
      "\u001b[1;31mModuleNotFoundError\u001b[0m                       Traceback (most recent call last)",
      "\u001b[1;32m<ipython-input-26-47c7704b2ebc>\u001b[0m in \u001b[0;36m<module>\u001b[1;34m()\u001b[0m\n\u001b[0;32m      2\u001b[0m \u001b[1;32mfrom\u001b[0m \u001b[0murllib\u001b[0m\u001b[1;33m.\u001b[0m\u001b[0mrequest\u001b[0m \u001b[1;32mimport\u001b[0m \u001b[0murlopen\u001b[0m\u001b[1;33m\u001b[0m\u001b[0m\n\u001b[0;32m      3\u001b[0m \u001b[1;32mimport\u001b[0m \u001b[0murllib\u001b[0m\u001b[1;33m.\u001b[0m\u001b[0merror\u001b[0m\u001b[1;33m\u001b[0m\u001b[0m\n\u001b[1;32m----> 4\u001b[1;33m \u001b[1;32mimport\u001b[0m \u001b[0mtwurl\u001b[0m\u001b[1;33m\u001b[0m\u001b[0m\n\u001b[0m\u001b[0;32m      5\u001b[0m \u001b[1;32mimport\u001b[0m \u001b[0mjson\u001b[0m\u001b[1;33m\u001b[0m\u001b[0m\n\u001b[0;32m      6\u001b[0m \u001b[1;32mimport\u001b[0m \u001b[0msqlite3\u001b[0m\u001b[1;33m\u001b[0m\u001b[0m\n",
      "\u001b[1;31mModuleNotFoundError\u001b[0m: No module named 'twurl'"
     ]
    }
   ],
   "source": [
    "#Spidering Twitter using a database\n",
    "from urllib.request import urlopen\n",
    "import urllib.error\n",
    "import twurl\n",
    "import json\n",
    "import sqlite3\n",
    "\n",
    "TWITTER_URL = 'https://api.twitter.com/1.1/friends/list.json'\n",
    "\n",
    "conn = sqlite3.connect('spider.sqlite')\n",
    "cur = conn.cursor()\n",
    "\n",
    "cur.execute('''\n",
    "            CREATE TABLE IF NOT EXISTS Twitter\n",
    "            (name TEXT, retrieved INTEGER, friends INTEGER)''')\n",
    "\n",
    "\n",
    "\n",
    "while True:\n",
    "    acct = input('Enter a Twitter account, or quit: ')\n",
    "    if (acct == 'quit'): break\n",
    "    if (len(acct) < 1):\n",
    "        cur.execute('SELECT name FROM Twitter WHERE retrieved = 0 LIMIT 1')\n",
    "        try:\n",
    "            acct = cur.fetchone()[0]\n",
    "        except:\n",
    "            print('No unretrieved Twitter accounts found')\n",
    "            continue\n",
    "url = twurl.augment(TWITTER_URL, {'screen_name': acct, 'count': '5'})\n",
    "print('Retrieving', url)\n",
    "connection = urlopen(url)\n",
    "data = connection.read().decode()\n",
    "headers = dict(connection.getheaders())\n",
    "print('Remaining', headers['x-rate-limit-remaining'])\n",
    "js = json.loads(data)\n",
    "# Debugging\n",
    "# print json.dumps(js, indent=4)\n",
    "cur.execute('UPDATE Twitter SET retrieved=1 WHERE name = ?', (acct, ))\n",
    "\n",
    "countnew = 0\n",
    "countold = 0\n",
    "for u in js['users']:\n",
    "    friend = u['screen_name']\n",
    "    print(friend)\n",
    "    cur.execute('SELECT friends FROM Twitter WHERE name = ? LIMIT 1',\n",
    "                (friend, ))\n",
    "    try:\n",
    "        count = cur.fetchone()[0]\n",
    "        cur.execute('UPDATE Twitter SET friends = ? WHERE name = ?',\n",
    "                    (count+1, friend))\n",
    "        countold = countold + 1\n",
    "    except:\n",
    "        cur.execute('''INSERT INTO Twitter (name, retrieved, friends)\n",
    "                    VALUES (?, 0, 1)''', (friend, ))\n",
    "        countnew = countnew + 1\n",
    "    print('New accounts=', countnew, ' revisited=', countold)\n",
    "    conn.commit()\n",
    "cur.close()\n",
    "        \n",
    "    \n",
    "\n",
    "\n",
    "        \n",
    "\n"
   ]
  },
  {
   "cell_type": "code",
   "execution_count": null,
   "metadata": {
    "collapsed": true
   },
   "outputs": [],
   "source": []
  }
 ],
 "metadata": {
  "kernelspec": {
   "display_name": "Python 3",
   "language": "python",
   "name": "python3"
  },
  "language_info": {
   "codemirror_mode": {
    "name": "ipython",
    "version": 3
   },
   "file_extension": ".py",
   "mimetype": "text/x-python",
   "name": "python",
   "nbconvert_exporter": "python",
   "pygments_lexer": "ipython3",
   "version": "3.6.1"
  }
 },
 "nbformat": 4,
 "nbformat_minor": 2
}
