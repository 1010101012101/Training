{
 "cells": [
  {
   "cell_type": "code",
   "execution_count": 1,
   "metadata": {},
   "outputs": [
    {
     "name": "stdout",
     "output_type": "stream",
     "text": [
      "chuck\n"
     ]
    }
   ],
   "source": [
    "#Using Objects\n",
    "stuff = list()\n",
    "stuff.append('python')\n",
    "stuff.append('chuck')\n",
    "stuff.sort()\n",
    "print(stuff[0])"
   ]
  },
  {
   "cell_type": "code",
   "execution_count": 2,
   "metadata": {},
   "outputs": [
    {
     "name": "stdout",
     "output_type": "stream",
     "text": [
      "chuck\n",
      "chuck\n"
     ]
    }
   ],
   "source": [
    "print(stuff.__getitem__(0))\n",
    "print(list.__getitem__(stuff,0))"
   ]
  },
  {
   "cell_type": "code",
   "execution_count": 3,
   "metadata": {},
   "outputs": [
    {
     "data": {
      "text/plain": [
       "['__add__',\n",
       " '__class__',\n",
       " '__contains__',\n",
       " '__delattr__',\n",
       " '__delitem__',\n",
       " '__dir__',\n",
       " '__doc__',\n",
       " '__eq__',\n",
       " '__format__',\n",
       " '__ge__',\n",
       " '__getattribute__',\n",
       " '__getitem__',\n",
       " '__gt__',\n",
       " '__hash__',\n",
       " '__iadd__',\n",
       " '__imul__',\n",
       " '__init__',\n",
       " '__init_subclass__',\n",
       " '__iter__',\n",
       " '__le__',\n",
       " '__len__',\n",
       " '__lt__',\n",
       " '__mul__',\n",
       " '__ne__',\n",
       " '__new__',\n",
       " '__reduce__',\n",
       " '__reduce_ex__',\n",
       " '__repr__',\n",
       " '__reversed__',\n",
       " '__rmul__',\n",
       " '__setattr__',\n",
       " '__setitem__',\n",
       " '__sizeof__',\n",
       " '__str__',\n",
       " '__subclasshook__',\n",
       " 'append',\n",
       " 'clear',\n",
       " 'copy',\n",
       " 'count',\n",
       " 'extend',\n",
       " 'index',\n",
       " 'insert',\n",
       " 'pop',\n",
       " 'remove',\n",
       " 'reverse',\n",
       " 'sort']"
      ]
     },
     "execution_count": 3,
     "metadata": {},
     "output_type": "execute_result"
    }
   ],
   "source": [
    "stuff = list()\n",
    "dir(stuff)"
   ]
  },
  {
   "cell_type": "code",
   "execution_count": 4,
   "metadata": {},
   "outputs": [
    {
     "name": "stdout",
     "output_type": "stream",
     "text": [
      "Enter - http://hitachivantara.com\n",
      "javascript:void(0);\n",
      "https://www.hitachivantara.com/en-us/home.html\n",
      "https://www.hitachivantara.com/en-us/home.html\n",
      "javascript:void(0);\n",
      "javascript:void(0);\n",
      "http://community.hitachivantara.com/\n",
      "https://support.hitachivantara.com/\n",
      "https://partner.hitachivantara.com\n",
      "javascript:void(0);\n",
      "#america\n",
      "#apac\n",
      "#emea\n",
      "/es-latam/home.html\n",
      "/pt-br/home.html\n",
      "/en-us/home.html\n",
      "/en-anz/home.html\n",
      "/zh-cn/home.html\n",
      "/en-hk/home.html\n",
      "/en-in/home.html\n",
      "http://www.hitachi.co.jp/products/it/storage-solutions/\n",
      "/ko-kr/home.html\n",
      "/zh-tw/home.html\n",
      "/de-de/home.html\n",
      "/de-at/home.html\n",
      "/ru-ru/home.html\n",
      "/de-ch/home.html\n",
      "http://www.pentaho.com/de\n",
      "http://www.pentaho.com/fr\n",
      "https://www.hitachivantara.com/en-us/home.html\n",
      "https://www.hitachivantara.com/en-us/solutions.html\n",
      "javascript:void(0)\n",
      "https://www.hitachivantara.com/en-us/solutions/iot-insights.html\n",
      "https://www.hitachivantara.com/en-us/solutions/iot-insights/industrial-iot.html\n",
      "https://www.hitachivantara.com/en-us/solutions/iot-insights/energy-iot.html\n",
      "https://www.hitachivantara.com/en-us/solutions/iot-insights/smart-cities.html\n",
      "https://www.hitachivantara.com/en-us/solutions/iot-insights/iot-analytics.html\n",
      "https://www.hitachivantara.com/en-us/solutions/data-analytics.html\n",
      "https://www.hitachivantara.com/en-us/solutions/digital-transformation.html\n",
      "https://www.hitachivantara.com/en-us/solutions/hybrid-cloud.html\n",
      "https://www.hitachivantara.com/en-us/solutions/application-ecosystem.html\n",
      "https://www.hitachivantara.com/en-us/solutions/data-center.html\n",
      "https://www.hitachivantara.com/en-us/solutions/industry-solutions.html\n",
      "https://www.hitachivantara.com/en-us/solutions/industry-solutions/communications.html\n",
      "https://www.hitachivantara.com/en-us/solutions/industry-solutions/energy.html\n",
      "https://www.hitachivantara.com/en-us/solutions/industry-solutions/financial-services.html\n",
      "https://www.hitachivantara.com/en-us/solutions/industry-solutions/government.html\n",
      "https://www.hitachivantara.com/en-us/solutions/industry-solutions/healthcare.html\n",
      "https://www.hitachivantara.com/en-us/solutions/iot-insights/industrial-iot.html\n",
      "https://www.hitachivantara.com/en-us/solutions/industry-solutions/media-entertainment.html\n",
      "https://www.hitachivantara.com/en-us/solutions/industry-solutions/retail.html\n",
      "https://www.hitachivantara.com/en-us/solutions/iot-insights/smart-cities.html\n",
      "https://www.hitachivantara.com/en-us/solutions/hybrid-cloud/enterprise-cloud.html\n",
      "https://www.hitachivantara.com/en-us/products.html\n",
      "javascript:void(0)\n",
      "https://www.hitachivantara.com/en-us/products/internet-of-things.html\n",
      "https://www.hitachivantara.com/en-us/products/big-data-integration-analytics.html\n",
      "https://www.hitachivantara.com/en-us/products/converged-systems.html\n",
      "https://www.hitachivantara.com/en-us/products/cloud-object-platform.html\n",
      "https://www.hitachivantara.com/en-us/products/storage.html\n",
      "https://www.hitachivantara.com/en-us/products/data-protection.html\n",
      "https://www.hitachivantara.com/en-us/products/internet-of-things/lumada.html\n",
      "https://www.hitachivantara.com/en-us/products/big-data-integration-analytics/pentaho-data-integration.html\n",
      "https://www.hitachivantara.com/en-us/services.html\n",
      "javascript:void(0)\n",
      "https://www.hitachivantara.com/en-us/services/co-creation.html\n",
      "https://www.hitachivantara.com/en-us/services/cloud-services.html\n",
      "https://www.hitachivantara.com/en-us/services/big-data-analytics-services.html\n",
      "https://www.hitachivantara.com/en-us/services/data-protection-services.html\n",
      "https://www.hitachivantara.com/en-us/services/infrastructure-services.html\n",
      "https://www.hitachivantara.com/en-us/services/application-services.html\n",
      "https://www.hitachivantara.com/en-us/services/customer-support.html\n",
      "https://www.hitachivantara.com/en-us/services/training-certification.html\n",
      "https://www.hitachivantara.com/en-us/services/training-certification.html\n",
      "https://support.hitachivantara.com/en_us/anonymous-dashboard.html\n",
      "https://www.hitachivantara.com/en-us/news-resources.html\n",
      "javascript:void(0)\n",
      "https://www.hitachivantara.com/en-us/news-resources/resources.html\n",
      "https://www.hitachivantara.com/en-us/news-resources/news.html\n",
      "https://www.hitachivantara.com/en-us/news-resources/press-releases.html\n",
      "https://www.hitachivantara.com/en-us/news-resources/events.html\n",
      "https://community.hitachivantara.com/community/blogs\n",
      "https://www.hitachivantara.com/en-us/news-resources/press-releases/2017/gl170919.html\n",
      "https://www.pentahoworld.com/\n",
      "https://www.hitachivantara.com/en-us/partners.html\n",
      "javascript:void(0)\n",
      "https://www.hitachivantara.com/en-us/partners/partner-program.html\n",
      "https://www.hitachivantara.com/en-us/partners/alliances.html\n",
      "https://www.hitachivantara.com/en-us/partners/systems-integrators.html\n",
      "https://www.hitachivantara.com/en-us/partners/cloud-partners.html\n",
      "https://www.hitachivantara.com/en-us/partners/value-added-resellers-distributors.html\n",
      "https://www.hitachivantara.com/en-us/partners/advisors.html\n",
      "https://www.hitachivantara.com/partnerlocator/en_us/partnerlocator.html\n",
      "https://www.hitachivantara.com/en-us/partners/partner-program.html\n",
      "https://partner.hitachivantara.com\n",
      "https://www.hitachivantara.com/en-us/company.html\n",
      "javascript:void(0)\n",
      "https://www.hitachivantara.com/en-us/company/social-innovation.html\n",
      "https://www.hitachivantara.com/en-us/company/corporate-social-responsibility.html\n",
      "https://www.hitachivantara.com/en-us/company/leadership.html\n",
      "https://www.hitachivantara.com/en-us/company/careers.html\n",
      "https://www.hitachivantara.com/en-us/company/contact.html\n",
      "https://www.hitachivantara.com/en-us/company.html\n",
      "https://www.hitachivantara.com/en-us/company/contact/worldwide-locations.html\n",
      "/en-us/home.html\n",
      "javascript:void(0);\n",
      "javascript:void(0);\n",
      "javascript:void(0);\n",
      "/en-us/solutions/iot-insights.html\n",
      "/en-us/solutions/data-analytics.html\n",
      "/en-us/solutions/hybrid-cloud.html\n",
      "/en-us/products.html#ps-search\n",
      "http://social-innovation.hitachi/en/index.html\n",
      "/en-us/pdf/ebook/cio-guide-to-digital-transformation.pdf\n",
      "/en-us/services/co-creation.html\n",
      "None\n",
      "javascript:void(0);\n",
      "/en-us/news-resources/press-releases/2017/gl170919a.html\n",
      "/en-us/news-resources/press-releases/2017/gl170919b.html\n",
      "/en-us/news-resources/press-releases/2017/gl170919e.html\n",
      "/en-us/news-resources.html\n",
      "tel://+14084570155\n",
      "https://www.hitachivantara.com/en-us/company/contact/worldwide-locations.html\n",
      "https://pages.hitachivantara.com/contact-sales-aem.html\n",
      "http://www.hitachivantara.com/partnerlocator/en_us/partnerlocator.html\n",
      "https://pages.hitachivantara.com/contact-sales-aem.html\n",
      "https://www.hitachivantara.com/en-us/products/internet-of-things/lumada-ecosystem/iot-platform.html\n",
      "https://www.hitachivantara.com/en-us/products/big-data-integration-analytics/pentaho-data-integration.html\n",
      "https://www.hitachivantara.com/en-us/products/cloud-object-platform.html\n",
      "https://www.hitachivantara.com/en-us/products/converged-systems.html\n",
      "https://www.hitachivantara.com/en-us/products/storage/virtual-storage-platform-f-series.html\n",
      "https://www.hitachivantara.com/en-us/news-resources/resources.html\n",
      "https://community.hitachivantara.com/community/developer-network\n",
      "https://www.hitachivantara.com/en-us/services/training-certification.html\n",
      "https://community.hitachivantara.com/community/blogs\n",
      "https://www.hitachivantara.com/en-us/company/careers.html\n",
      "https://www.hitachivantara.com/en-us/company/leadership.html\n",
      "https://www.hitachivantara.com/en-us/news-resources/press-releases.html\n",
      "https://www.hitachivantara.com/en-us/company/awards.html\n",
      "https://www.hitachivantara.com/en-us/company/corporate-social-responsibility.html\n",
      "https://www.hitachivantara.com/en-us/company/corporate-social-responsibility.html#ethics\n",
      "https://www.hitachivantara.com/en-us/company/contact.html\n",
      "https://support.hitachivantara.com\n",
      "https://www.facebook.com/HitachiVantara/\n",
      "https://twitter.com/HitachiVantara\n",
      "https://www.linkedin.com/company/11257500\n",
      "https://www.youtube.com/c/HitachiVantara\n",
      "http://community.hitachivantara.com/\n",
      "https://www.hitachivantara.com/en-us/home.html\n",
      "https://www.hitachivantara.com/en-us/company/legal.websiteterms.html\n",
      "https://www.hitachivantara.com/en-us/company/legal.privacy.html\n",
      "https://www.hitachivantara.com/en-us/company/legal.html\n",
      "/\n",
      "#\n",
      "https://pages.hitachivantara.com/user-offlineform-newcorp.html\n"
     ]
    }
   ],
   "source": [
    "#Starting with Programs\n",
    "import urllib.request, urllib.parse, urllib.error\n",
    "from bs4 import BeautifulSoup\n",
    "\n",
    "url = input('Enter - ')\n",
    "html = urllib.request.urlopen(url).read()\n",
    "soup = BeautifulSoup(html, 'html.parser')\n",
    "\n",
    "# Retrieve all of the anchor tags\n",
    "tags = soup('a')\n",
    "for tag in tags:\n",
    "    print(tag.get('href', None))\n"
   ]
  },
  {
   "cell_type": "code",
   "execution_count": 6,
   "metadata": {},
   "outputs": [
    {
     "name": "stdout",
     "output_type": "stream",
     "text": [
      "So far 1\n",
      "So far 2\n",
      "So far 3\n",
      "So far 4\n"
     ]
    }
   ],
   "source": [
    "#Our First Python Object\n",
    "class PartyAnimal:\n",
    "    x = 0\n",
    "    \n",
    "    def party(self):\n",
    "        self.x = self.x +1\n",
    "        print(\"So far\", self.x)\n",
    "\n",
    "an = PartyAnimal()\n",
    "an.party()\n",
    "an.party()\n",
    "an.party()\n",
    "PartyAnimal.party(an)\n"
   ]
  },
  {
   "cell_type": "code",
   "execution_count": 4,
   "metadata": {},
   "outputs": [
    {
     "name": "stdout",
     "output_type": "stream",
     "text": [
      "Type <class '__main__.PartyAnimal'>\n",
      "Dir  ['__class__', '__delattr__', '__dict__', '__dir__', '__doc__', '__eq__', '__format__', '__ge__', '__getattribute__', '__gt__', '__hash__', '__init__', '__init_subclass__', '__le__', '__lt__', '__module__', '__ne__', '__new__', '__reduce__', '__reduce_ex__', '__repr__', '__setattr__', '__sizeof__', '__str__', '__subclasshook__', '__weakref__', 'party', 'x']\n",
      "Type  <class 'int'>\n",
      "Type <class 'method'>\n"
     ]
    }
   ],
   "source": [
    "#Classes as Types\n",
    "\n",
    "class PartyAnimal:\n",
    "    x = 0\n",
    "    \n",
    "    def party(self):\n",
    "        self.x = self.x +1\n",
    "        print(\"So far\",self.x)\n",
    "\n",
    "an = PartyAnimal()\n",
    "print(\"Type\", type(an))\n",
    "print(\"Dir \", dir(an))\n",
    "print(\"Type \", type(an.x))\n",
    "print(\"Type\", type(an.party))"
   ]
  },
  {
   "cell_type": "code",
   "execution_count": 1,
   "metadata": {},
   "outputs": [
    {
     "name": "stdout",
     "output_type": "stream",
     "text": [
      "I am constructed\n",
      "So far 1\n",
      "So far 2\n",
      "I am destructed 2\n",
      "an contains 42\n"
     ]
    }
   ],
   "source": [
    "#Object Lifecycle\n",
    "\n",
    "class PartyAnimal:\n",
    "    x =0\n",
    "    \n",
    "    def __init__(self):\n",
    "        print('I am constructed')\n",
    "        \n",
    "    def party(self):\n",
    "        self.x = self.x +1\n",
    "        print('So far', self.x)\n",
    "        \n",
    "    def __del__(self):\n",
    "        print('I am destructed', self.x)\n",
    "        \n",
    "an = PartyAnimal()\n",
    "an.party()\n",
    "an.party()\n",
    "an = 42\n",
    "print('an contains', an)\n"
   ]
  },
  {
   "cell_type": "code",
   "execution_count": 5,
   "metadata": {},
   "outputs": [
    {
     "name": "stdout",
     "output_type": "stream",
     "text": [
      "I am constructed\n",
      "I am destructed 2\n",
      "So far 1\n",
      "So far 2\n",
      "I am destructed 2\n"
     ]
    }
   ],
   "source": [
    "#Object Lifecycle\n",
    "  \n",
    "an = PartyAnimal()\n",
    "an.party()\n",
    "an.party()\n",
    "an.__del__()\n"
   ]
  },
  {
   "cell_type": "code",
   "execution_count": 7,
   "metadata": {},
   "outputs": [
    {
     "name": "stdout",
     "output_type": "stream",
     "text": [
      "Sally constructed\n",
      "Sally party count 1\n",
      "Jim constructed\n",
      "Jim party count 1\n",
      "Sally party count 2\n"
     ]
    }
   ],
   "source": [
    "#Many Instances\n",
    "\n",
    "class PartyAnimal:\n",
    "    x = 0\n",
    "    name = ''\n",
    "    def __init__(self,nam):\n",
    "        self.name = nam\n",
    "        print(self.name, 'constructed')\n",
    "        \n",
    "    def party(self):\n",
    "        self.x = self.x+1\n",
    "        print(self.name, 'party count', self.x)\n",
    "        \n",
    "\n",
    "s = PartyAnimal('Sally')\n",
    "s.party()\n",
    "j= PartyAnimal('Jim')\n",
    "j.party()\n",
    "s.party()"
   ]
  },
  {
   "cell_type": "code",
   "execution_count": 8,
   "metadata": {
    "collapsed": true
   },
   "outputs": [],
   "source": [
    "#Inheritance\n",
    "class PartyAnimal:\n",
    "    x = 0\n",
    "    name = ''\n",
    "    def __init__(self,nam):\n",
    "        self.name = nam\n",
    "        print(self.name, 'constructed')\n",
    "        \n",
    "    def party(self):\n",
    "        self.x = self.x +1\n",
    "        print(self.name, 'party count', self.x)\n",
    "        \n",
    "        "
   ]
  },
  {
   "cell_type": "code",
   "execution_count": 10,
   "metadata": {},
   "outputs": [
    {
     "name": "stdout",
     "output_type": "stream",
     "text": [
      "Sally constructed\n",
      "Sally party count 1\n",
      "Jim constructed\n",
      "Jim party count 1\n",
      "Jim party count 2\n",
      "Jim points 6\n",
      "['__class__', '__delattr__', '__dict__', '__dir__', '__doc__', '__eq__', '__format__', '__ge__', '__getattribute__', '__gt__', '__hash__', '__init__', '__init_subclass__', '__le__', '__lt__', '__module__', '__ne__', '__new__', '__reduce__', '__reduce_ex__', '__repr__', '__setattr__', '__sizeof__', '__str__', '__subclasshook__', '__weakref__', 'name', 'party', 'points', 'six', 'x']\n"
     ]
    }
   ],
   "source": [
    "#then , we can 'import' the PartyAnimal class in a new file and extend it as follows:\n",
    "\n",
    "#from party import PartyAnimal\n",
    "\n",
    "class CricketFan(PartyAnimal):\n",
    "    points = 0\n",
    "    def six(self):\n",
    "        self.points = self.points + 6\n",
    "        self.party()\n",
    "        print(self.name, \"points\", self.points)\n",
    "        \n",
    "        \n",
    "s = PartyAnimal(\"Sally\")\n",
    "s.party()\n",
    "j = CricketFan(\"Jim\")\n",
    "j.party()\n",
    "\n",
    "j.six()\n",
    "\n",
    "print(dir(j))\n"
   ]
  },
  {
   "cell_type": "code",
   "execution_count": null,
   "metadata": {
    "collapsed": true
   },
   "outputs": [],
   "source": []
  }
 ],
 "metadata": {
  "kernelspec": {
   "display_name": "Python 3",
   "language": "python",
   "name": "python3"
  },
  "language_info": {
   "codemirror_mode": {
    "name": "ipython",
    "version": 3
   },
   "file_extension": ".py",
   "mimetype": "text/x-python",
   "name": "python",
   "nbconvert_exporter": "python",
   "pygments_lexer": "ipython3",
   "version": "3.6.1"
  }
 },
 "nbformat": 4,
 "nbformat_minor": 2
}
